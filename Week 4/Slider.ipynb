{
  "nbformat": 4,
  "nbformat_minor": 0,
  "metadata": {
    "colab": {
      "provenance": []
    },
    "kernelspec": {
      "name": "python3",
      "display_name": "Python 3"
    },
    "language_info": {
      "name": "python"
    },
    "widgets": {
      "application/vnd.jupyter.widget-state+json": {
        "69373313033e47149f394777fd715dad": {
          "model_module": "@jupyter-widgets/controls",
          "model_name": "VBoxModel",
          "model_module_version": "1.5.0",
          "state": {
            "_dom_classes": [
              "widget-interact"
            ],
            "_model_module": "@jupyter-widgets/controls",
            "_model_module_version": "1.5.0",
            "_model_name": "VBoxModel",
            "_view_count": null,
            "_view_module": "@jupyter-widgets/controls",
            "_view_module_version": "1.5.0",
            "_view_name": "VBoxView",
            "box_style": "",
            "children": [
              "IPY_MODEL_972a3b4f9ba04319bcc1d301c9ebb187",
              "IPY_MODEL_e7055ba43f174021a78a8aabb1361f95",
              "IPY_MODEL_a83930d04a2942888071c310a4e54a85"
            ],
            "layout": "IPY_MODEL_ed6904206815480184ec737bdf4546f0"
          }
        },
        "972a3b4f9ba04319bcc1d301c9ebb187": {
          "model_module": "@jupyter-widgets/controls",
          "model_name": "FloatSliderModel",
          "model_module_version": "1.5.0",
          "state": {
            "_dom_classes": [],
            "_model_module": "@jupyter-widgets/controls",
            "_model_module_version": "1.5.0",
            "_model_name": "FloatSliderModel",
            "_view_count": null,
            "_view_module": "@jupyter-widgets/controls",
            "_view_module_version": "1.5.0",
            "_view_name": "FloatSliderView",
            "continuous_update": true,
            "description": "A",
            "description_tooltip": null,
            "disabled": false,
            "layout": "IPY_MODEL_b44a0783fdca4306906415784f509388",
            "max": 5,
            "min": 0,
            "orientation": "horizontal",
            "readout": true,
            "readout_format": ".2f",
            "step": 0.5,
            "style": "IPY_MODEL_5e5ac67370c94339a20fc43d951ddb78",
            "value": 3
          }
        },
        "e7055ba43f174021a78a8aabb1361f95": {
          "model_module": "@jupyter-widgets/controls",
          "model_name": "IntSliderModel",
          "model_module_version": "1.5.0",
          "state": {
            "_dom_classes": [],
            "_model_module": "@jupyter-widgets/controls",
            "_model_module_version": "1.5.0",
            "_model_name": "IntSliderModel",
            "_view_count": null,
            "_view_module": "@jupyter-widgets/controls",
            "_view_module_version": "1.5.0",
            "_view_name": "IntSliderView",
            "continuous_update": true,
            "description": "B",
            "description_tooltip": null,
            "disabled": false,
            "layout": "IPY_MODEL_ab7670f2256c44fb90d71f79777ca6cd",
            "max": 10,
            "min": 0,
            "orientation": "horizontal",
            "readout": true,
            "readout_format": "d",
            "step": 2,
            "style": "IPY_MODEL_7efef0f97bbc4f798356d9507a0aa453",
            "value": 1
          }
        },
        "a83930d04a2942888071c310a4e54a85": {
          "model_module": "@jupyter-widgets/output",
          "model_name": "OutputModel",
          "model_module_version": "1.0.0",
          "state": {
            "_dom_classes": [],
            "_model_module": "@jupyter-widgets/output",
            "_model_module_version": "1.0.0",
            "_model_name": "OutputModel",
            "_view_count": null,
            "_view_module": "@jupyter-widgets/output",
            "_view_module_version": "1.0.0",
            "_view_name": "OutputView",
            "layout": "IPY_MODEL_65bb1907e4e648db8f95c64b9e31930d",
            "msg_id": "",
            "outputs": [
              {
                "output_type": "display_data",
                "data": {
                  "text/plain": "<Figure size 640x480 with 1 Axes>",
                  "image/png": "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\n"
                },
                "metadata": {}
              },
              {
                "output_type": "stream",
                "name": "stdout",
                "text": [
                  "A is  3.0\n",
                  "B is 1\n"
                ]
              },
              {
                "output_type": "display_data",
                "data": {
                  "text/plain": "3.0"
                },
                "metadata": {}
              }
            ]
          }
        },
        "ed6904206815480184ec737bdf4546f0": {
          "model_module": "@jupyter-widgets/base",
          "model_name": "LayoutModel",
          "model_module_version": "1.2.0",
          "state": {
            "_model_module": "@jupyter-widgets/base",
            "_model_module_version": "1.2.0",
            "_model_name": "LayoutModel",
            "_view_count": null,
            "_view_module": "@jupyter-widgets/base",
            "_view_module_version": "1.2.0",
            "_view_name": "LayoutView",
            "align_content": null,
            "align_items": null,
            "align_self": null,
            "border": null,
            "bottom": null,
            "display": null,
            "flex": null,
            "flex_flow": null,
            "grid_area": null,
            "grid_auto_columns": null,
            "grid_auto_flow": null,
            "grid_auto_rows": null,
            "grid_column": null,
            "grid_gap": null,
            "grid_row": null,
            "grid_template_areas": null,
            "grid_template_columns": null,
            "grid_template_rows": null,
            "height": null,
            "justify_content": null,
            "justify_items": null,
            "left": null,
            "margin": null,
            "max_height": null,
            "max_width": null,
            "min_height": null,
            "min_width": null,
            "object_fit": null,
            "object_position": null,
            "order": null,
            "overflow": null,
            "overflow_x": null,
            "overflow_y": null,
            "padding": null,
            "right": null,
            "top": null,
            "visibility": null,
            "width": null
          }
        },
        "b44a0783fdca4306906415784f509388": {
          "model_module": "@jupyter-widgets/base",
          "model_name": "LayoutModel",
          "model_module_version": "1.2.0",
          "state": {
            "_model_module": "@jupyter-widgets/base",
            "_model_module_version": "1.2.0",
            "_model_name": "LayoutModel",
            "_view_count": null,
            "_view_module": "@jupyter-widgets/base",
            "_view_module_version": "1.2.0",
            "_view_name": "LayoutView",
            "align_content": null,
            "align_items": null,
            "align_self": null,
            "border": null,
            "bottom": null,
            "display": null,
            "flex": null,
            "flex_flow": null,
            "grid_area": null,
            "grid_auto_columns": null,
            "grid_auto_flow": null,
            "grid_auto_rows": null,
            "grid_column": null,
            "grid_gap": null,
            "grid_row": null,
            "grid_template_areas": null,
            "grid_template_columns": null,
            "grid_template_rows": null,
            "height": null,
            "justify_content": null,
            "justify_items": null,
            "left": null,
            "margin": null,
            "max_height": null,
            "max_width": null,
            "min_height": null,
            "min_width": null,
            "object_fit": null,
            "object_position": null,
            "order": null,
            "overflow": null,
            "overflow_x": null,
            "overflow_y": null,
            "padding": null,
            "right": null,
            "top": null,
            "visibility": null,
            "width": null
          }
        },
        "5e5ac67370c94339a20fc43d951ddb78": {
          "model_module": "@jupyter-widgets/controls",
          "model_name": "SliderStyleModel",
          "model_module_version": "1.5.0",
          "state": {
            "_model_module": "@jupyter-widgets/controls",
            "_model_module_version": "1.5.0",
            "_model_name": "SliderStyleModel",
            "_view_count": null,
            "_view_module": "@jupyter-widgets/base",
            "_view_module_version": "1.2.0",
            "_view_name": "StyleView",
            "description_width": "",
            "handle_color": null
          }
        },
        "ab7670f2256c44fb90d71f79777ca6cd": {
          "model_module": "@jupyter-widgets/base",
          "model_name": "LayoutModel",
          "model_module_version": "1.2.0",
          "state": {
            "_model_module": "@jupyter-widgets/base",
            "_model_module_version": "1.2.0",
            "_model_name": "LayoutModel",
            "_view_count": null,
            "_view_module": "@jupyter-widgets/base",
            "_view_module_version": "1.2.0",
            "_view_name": "LayoutView",
            "align_content": null,
            "align_items": null,
            "align_self": null,
            "border": null,
            "bottom": null,
            "display": null,
            "flex": null,
            "flex_flow": null,
            "grid_area": null,
            "grid_auto_columns": null,
            "grid_auto_flow": null,
            "grid_auto_rows": null,
            "grid_column": null,
            "grid_gap": null,
            "grid_row": null,
            "grid_template_areas": null,
            "grid_template_columns": null,
            "grid_template_rows": null,
            "height": null,
            "justify_content": null,
            "justify_items": null,
            "left": null,
            "margin": null,
            "max_height": null,
            "max_width": null,
            "min_height": null,
            "min_width": null,
            "object_fit": null,
            "object_position": null,
            "order": null,
            "overflow": null,
            "overflow_x": null,
            "overflow_y": null,
            "padding": null,
            "right": null,
            "top": null,
            "visibility": null,
            "width": null
          }
        },
        "7efef0f97bbc4f798356d9507a0aa453": {
          "model_module": "@jupyter-widgets/controls",
          "model_name": "SliderStyleModel",
          "model_module_version": "1.5.0",
          "state": {
            "_model_module": "@jupyter-widgets/controls",
            "_model_module_version": "1.5.0",
            "_model_name": "SliderStyleModel",
            "_view_count": null,
            "_view_module": "@jupyter-widgets/base",
            "_view_module_version": "1.2.0",
            "_view_name": "StyleView",
            "description_width": "",
            "handle_color": null
          }
        },
        "65bb1907e4e648db8f95c64b9e31930d": {
          "model_module": "@jupyter-widgets/base",
          "model_name": "LayoutModel",
          "model_module_version": "1.2.0",
          "state": {
            "_model_module": "@jupyter-widgets/base",
            "_model_module_version": "1.2.0",
            "_model_name": "LayoutModel",
            "_view_count": null,
            "_view_module": "@jupyter-widgets/base",
            "_view_module_version": "1.2.0",
            "_view_name": "LayoutView",
            "align_content": null,
            "align_items": null,
            "align_self": null,
            "border": null,
            "bottom": null,
            "display": null,
            "flex": null,
            "flex_flow": null,
            "grid_area": null,
            "grid_auto_columns": null,
            "grid_auto_flow": null,
            "grid_auto_rows": null,
            "grid_column": null,
            "grid_gap": null,
            "grid_row": null,
            "grid_template_areas": null,
            "grid_template_columns": null,
            "grid_template_rows": null,
            "height": null,
            "justify_content": null,
            "justify_items": null,
            "left": null,
            "margin": null,
            "max_height": null,
            "max_width": null,
            "min_height": null,
            "min_width": null,
            "object_fit": null,
            "object_position": null,
            "order": null,
            "overflow": null,
            "overflow_x": null,
            "overflow_y": null,
            "padding": null,
            "right": null,
            "top": null,
            "visibility": null,
            "width": null
          }
        }
      }
    }
  },
  "cells": [
    {
      "cell_type": "code",
      "source": [
        "from ipywidgets import interact\n",
        "import matplotlib.pyplot as plt\n",
        "import numpy as np"
      ],
      "metadata": {
        "id": "SpZCj5BZn8yc"
      },
      "execution_count": 6,
      "outputs": []
    },
    {
      "cell_type": "code",
      "source": [
        "def plot_poly(a, b):\n",
        "  x = np.arange(1, 20, 1)\n",
        "  y = x**a\n",
        "  y2 = x * b\n",
        "  plt.plot(x, y)\n",
        "  plt.plot(x, y2)\n",
        "  plt.show()"
      ],
      "metadata": {
        "id": "X4ij6AE9njmF"
      },
      "execution_count": 11,
      "outputs": []
    },
    {
      "cell_type": "code",
      "source": [
        "@interact(A=(0,5,0.5), B = (0,10, 2))\n",
        "def h(A=3, B=1): #initial value\n",
        "  plot_poly(A, B)\n",
        "  print('A is ', A)\n",
        "  print('B is', B)\n",
        "  return A"
      ],
      "metadata": {
        "colab": {
          "base_uri": "https://localhost:8080/",
          "height": 546,
          "referenced_widgets": [
            "69373313033e47149f394777fd715dad",
            "972a3b4f9ba04319bcc1d301c9ebb187",
            "e7055ba43f174021a78a8aabb1361f95",
            "a83930d04a2942888071c310a4e54a85",
            "ed6904206815480184ec737bdf4546f0",
            "b44a0783fdca4306906415784f509388",
            "5e5ac67370c94339a20fc43d951ddb78",
            "ab7670f2256c44fb90d71f79777ca6cd",
            "7efef0f97bbc4f798356d9507a0aa453",
            "65bb1907e4e648db8f95c64b9e31930d"
          ]
        },
        "id": "tdfdY3ykY1nQ",
        "outputId": "38457a7f-f612-4993-8050-e2102f5b7950"
      },
      "execution_count": 14,
      "outputs": [
        {
          "output_type": "display_data",
          "data": {
            "text/plain": [
              "interactive(children=(FloatSlider(value=3.0, description='A', max=5.0, step=0.5), IntSlider(value=1, descripti…"
            ],
            "application/vnd.jupyter.widget-view+json": {
              "version_major": 2,
              "version_minor": 0,
              "model_id": "69373313033e47149f394777fd715dad"
            }
          },
          "metadata": {}
        }
      ]
    }
  ]
}